{
  "nbformat": 4,
  "nbformat_minor": 0,
  "metadata": {
    "colab": {
      "provenance": []
    },
    "kernelspec": {
      "name": "python3",
      "display_name": "Python 3"
    },
    "language_info": {
      "name": "python"
    }
  },
  "cells": [
    {
      "cell_type": "markdown",
      "source": [
        "# Clase 2 - Introducción a Python\n"
      ],
      "metadata": {
        "id": "XhtoXW2312mc"
      }
    },
    {
      "cell_type": "markdown",
      "source": [
        "## Números\n",
        "\n",
        "\n",
        "\n",
        "*   Enteros (int) - negativos y positivos\n",
        "*   Flotantes (float) - va con . no con ,\n",
        "*   Complejos (complex) - usa la j como representación de la unidad imaginaria"
      ],
      "metadata": {
        "id": "8OFHPhkB2RIw"
      }
    },
    {
      "cell_type": "code",
      "source": [
        "n = -100"
      ],
      "metadata": {
        "id": "udMrI8B42hJs"
      },
      "execution_count": null,
      "outputs": []
    },
    {
      "cell_type": "code",
      "source": [
        "type(n)"
      ],
      "metadata": {
        "colab": {
          "base_uri": "https://localhost:8080/"
        },
        "id": "KZ76Glco2ors",
        "outputId": "1771c132-c331-4928-edb6-68d8f4df0d1f"
      },
      "execution_count": null,
      "outputs": [
        {
          "output_type": "execute_result",
          "data": {
            "text/plain": [
              "int"
            ]
          },
          "metadata": {},
          "execution_count": 4
        }
      ]
    },
    {
      "cell_type": "code",
      "source": [
        "m = 3.1416"
      ],
      "metadata": {
        "id": "PAR1E14U3D5S"
      },
      "execution_count": null,
      "outputs": []
    },
    {
      "cell_type": "code",
      "source": [
        "type(m)"
      ],
      "metadata": {
        "colab": {
          "base_uri": "https://localhost:8080/"
        },
        "id": "zxURu7dr30qR",
        "outputId": "7930b3c5-4ac6-4e7e-d4fe-60445f147b87"
      },
      "execution_count": null,
      "outputs": [
        {
          "output_type": "execute_result",
          "data": {
            "text/plain": [
              "float"
            ]
          },
          "metadata": {},
          "execution_count": 6
        }
      ]
    },
    {
      "cell_type": "code",
      "source": [
        "c = 3 + 7j"
      ],
      "metadata": {
        "id": "ISCD9-U_4HJC"
      },
      "execution_count": null,
      "outputs": []
    },
    {
      "cell_type": "code",
      "source": [
        "type(c)"
      ],
      "metadata": {
        "colab": {
          "base_uri": "https://localhost:8080/"
        },
        "id": "5rhAqBg-4bgA",
        "outputId": "5f24adb9-0c96-4381-99da-0d21101c4cec"
      },
      "execution_count": null,
      "outputs": [
        {
          "output_type": "execute_result",
          "data": {
            "text/plain": [
              "complex"
            ]
          },
          "metadata": {},
          "execution_count": 8
        }
      ]
    },
    {
      "cell_type": "markdown",
      "source": [
        "## Operaciones con números"
      ],
      "metadata": {
        "id": "8mWlng9-5Hma"
      }
    },
    {
      "cell_type": "code",
      "source": [
        "12 + 5 * 2"
      ],
      "metadata": {
        "colab": {
          "base_uri": "https://localhost:8080/"
        },
        "id": "6xADUZQn5Kuh",
        "outputId": "5aa0059e-d30d-4f41-95aa-f409a6a42a89"
      },
      "execution_count": null,
      "outputs": [
        {
          "output_type": "execute_result",
          "data": {
            "text/plain": [
              "22"
            ]
          },
          "metadata": {},
          "execution_count": 9
        }
      ]
    },
    {
      "cell_type": "code",
      "source": [
        "2**3"
      ],
      "metadata": {
        "colab": {
          "base_uri": "https://localhost:8080/"
        },
        "id": "CIC6O5CG5QNv",
        "outputId": "86e5f7ad-20af-433b-c841-67ee274574ac"
      },
      "execution_count": null,
      "outputs": [
        {
          "output_type": "execute_result",
          "data": {
            "text/plain": [
              "8"
            ]
          },
          "metadata": {},
          "execution_count": 10
        }
      ]
    },
    {
      "cell_type": "code",
      "source": [
        "16**(1/2)"
      ],
      "metadata": {
        "colab": {
          "base_uri": "https://localhost:8080/"
        },
        "id": "SiXv6EIx5cfv",
        "outputId": "01598458-d9b9-4f0c-f38f-50b8bcd05e12"
      },
      "execution_count": null,
      "outputs": [
        {
          "output_type": "execute_result",
          "data": {
            "text/plain": [
              "4.0"
            ]
          },
          "metadata": {},
          "execution_count": 11
        }
      ]
    },
    {
      "cell_type": "code",
      "source": [
        "27**(1/3) #radicación"
      ],
      "metadata": {
        "colab": {
          "base_uri": "https://localhost:8080/"
        },
        "id": "D9wMJY1N53E3",
        "outputId": "9506b834-4b0a-4825-e629-617fe46f1b09"
      },
      "execution_count": null,
      "outputs": [
        {
          "output_type": "execute_result",
          "data": {
            "text/plain": [
              "3.0"
            ]
          },
          "metadata": {},
          "execution_count": 12
        }
      ]
    },
    {
      "cell_type": "code",
      "source": [
        "17//3 #parte entera"
      ],
      "metadata": {
        "colab": {
          "base_uri": "https://localhost:8080/"
        },
        "id": "aaKobGuF5-tD",
        "outputId": "eafb1bde-f85f-400b-a816-e86ee8b9cac4"
      },
      "execution_count": null,
      "outputs": [
        {
          "output_type": "execute_result",
          "data": {
            "text/plain": [
              "5"
            ]
          },
          "metadata": {},
          "execution_count": 13
        }
      ]
    },
    {
      "cell_type": "code",
      "source": [
        "17%3 #módulo"
      ],
      "metadata": {
        "colab": {
          "base_uri": "https://localhost:8080/"
        },
        "id": "uAudwrIt6Rso",
        "outputId": "4b743188-394f-4643-820d-c3fcf9e312ac"
      },
      "execution_count": null,
      "outputs": [
        {
          "output_type": "execute_result",
          "data": {
            "text/plain": [
              "2"
            ]
          },
          "metadata": {},
          "execution_count": 15
        }
      ]
    },
    {
      "cell_type": "markdown",
      "source": [
        "## Orden de prioridades en la resolución de una operación aritmética\n",
        "\n",
        "PAPOMUDAS\n",
        "* PA: paréntesis\n",
        "* P: potencias/radicación\n",
        "* M: multiplicación\n",
        "* D: división\n",
        "* A: adición (suma)\n",
        "* S: sustracción (resta)"
      ],
      "metadata": {
        "id": "QRiK2T7l6yiL"
      }
    },
    {
      "cell_type": "code",
      "source": [
        "15 + 3 * 2"
      ],
      "metadata": {
        "colab": {
          "base_uri": "https://localhost:8080/"
        },
        "id": "qIJMlm5S63r0",
        "outputId": "2bd8e930-b1bb-4642-a89b-dd0222f210bc"
      },
      "execution_count": null,
      "outputs": [
        {
          "output_type": "execute_result",
          "data": {
            "text/plain": [
              "21"
            ]
          },
          "metadata": {},
          "execution_count": 17
        }
      ]
    },
    {
      "cell_type": "markdown",
      "source": [
        "## Cadenas / Strings (str)"
      ],
      "metadata": {
        "id": "M4Muze7P8Hix"
      }
    },
    {
      "cell_type": "code",
      "source": [
        "nombre = \"José de San Martín\"\n",
        "password = \"js//((1343556))\""
      ],
      "metadata": {
        "id": "jL_18Lb78ONx"
      },
      "execution_count": null,
      "outputs": []
    },
    {
      "cell_type": "code",
      "source": [
        "type(password)"
      ],
      "metadata": {
        "colab": {
          "base_uri": "https://localhost:8080/"
        },
        "id": "EJEg7Zdk8VL4",
        "outputId": "226b1cc9-0e3c-4e24-9f85-ae7fc9dfa901"
      },
      "execution_count": null,
      "outputs": [
        {
          "output_type": "execute_result",
          "data": {
            "text/plain": [
              "str"
            ]
          },
          "metadata": {},
          "execution_count": 23
        }
      ]
    },
    {
      "cell_type": "code",
      "source": [
        "frase = \"Dios no juega a los dados 'Einstein' \""
      ],
      "metadata": {
        "id": "NqzMyvF98ZTL"
      },
      "execution_count": null,
      "outputs": []
    },
    {
      "cell_type": "code",
      "source": [
        "frase"
      ],
      "metadata": {
        "colab": {
          "base_uri": "https://localhost:8080/",
          "height": 35
        },
        "id": "No9bEDl4809X",
        "outputId": "60392e61-cb0b-4a7d-a470-64b80a934acf"
      },
      "execution_count": null,
      "outputs": [
        {
          "output_type": "execute_result",
          "data": {
            "text/plain": [
              "\"Dios no juega a los dados 'Einstein' \""
            ],
            "application/vnd.google.colaboratory.intrinsic+json": {
              "type": "string"
            }
          },
          "metadata": {},
          "execution_count": 25
        }
      ]
    },
    {
      "cell_type": "markdown",
      "source": [
        "## Print"
      ],
      "metadata": {
        "id": "8QpCbTaR9lr-"
      }
    },
    {
      "cell_type": "code",
      "source": [
        "print(nombre)\n",
        "print(\"Hola, ¿cómo estás?\", nombre)\n",
        "print(\"Hola, ¿cómo estás?\", nombre, \"hoy tenés\", n, \"llamados para atender\")"
      ],
      "metadata": {
        "colab": {
          "base_uri": "https://localhost:8080/"
        },
        "id": "IIGmDmsG9r6P",
        "outputId": "20bdd6f6-669a-478c-c6ea-75975894b16c"
      },
      "execution_count": null,
      "outputs": [
        {
          "output_type": "stream",
          "name": "stdout",
          "text": [
            "José de San Martín\n",
            "Hola, ¿cómo estás? José de San Martín\n",
            "Hola, ¿cómo estás? José de San Martín hoy tenés -100 llamados para atender\n"
          ]
        }
      ]
    },
    {
      "cell_type": "code",
      "source": [
        "print(\"70 blacones hay en esta casa\")\n",
        "print(\"70 balcones y ninguna flor\")\n",
        "print(\"A sus habitantes, señor, qué les pasa\")"
      ],
      "metadata": {
        "colab": {
          "base_uri": "https://localhost:8080/"
        },
        "id": "ug6VPi7XDrH4",
        "outputId": "ae24915c-eaed-4d2d-896a-4ad7fe650b86"
      },
      "execution_count": null,
      "outputs": [
        {
          "output_type": "stream",
          "name": "stdout",
          "text": [
            "70 blacones hay en esta casa\n",
            "70 balcones y ninguna flor\n",
            "A sus habitantes, señor, qué les pasa\n"
          ]
        }
      ]
    },
    {
      "cell_type": "code",
      "source": [
        "print(\"70 blacones hay en esta casa\\n70 balcones y ninguna flor\\nA sus habitantes, señor, qué les pasa\")"
      ],
      "metadata": {
        "colab": {
          "base_uri": "https://localhost:8080/"
        },
        "id": "pGUfWw8hEEfC",
        "outputId": "ca8b0c0d-cb83-4ffa-b955-b8be8d2d3724"
      },
      "execution_count": null,
      "outputs": [
        {
          "output_type": "stream",
          "name": "stdout",
          "text": [
            "70 blacones hay en esta casa\n",
            "70 balcones y ninguna flor\n",
            "A sus habitantes, señor, qué les pasa\n"
          ]
        }
      ]
    },
    {
      "cell_type": "code",
      "source": [
        "profe = \"Norman \" + \"Beltran\"\n",
        "print(profe)\n",
        "print(\"Norman \" + \"Beltran\") #es lo mismo\n",
        "print(4+5+6)\n",
        "print(\"Color\\tVerde\\tAzul\\tRojo\")"
      ],
      "metadata": {
        "colab": {
          "base_uri": "https://localhost:8080/"
        },
        "id": "0jjto_1DEY3v",
        "outputId": "63e25f62-85ef-4082-d3cd-04e308e7c817"
      },
      "execution_count": null,
      "outputs": [
        {
          "output_type": "stream",
          "name": "stdout",
          "text": [
            "Norman Beltran\n",
            "Norman Beltran\n",
            "15\n",
            "Color\tVerde\tAzul\tRojo\n"
          ]
        }
      ]
    },
    {
      "cell_type": "code",
      "source": [
        "print(\"C:\\\\nueva_carpeta\\\\python\")\n",
        "print(r\"C:\\nueva_carpeta\\python\") #raw"
      ],
      "metadata": {
        "colab": {
          "base_uri": "https://localhost:8080/"
        },
        "id": "i3YyqpNvFK2s",
        "outputId": "cb57c787-56c5-4c42-c273-eac6233d0694"
      },
      "execution_count": null,
      "outputs": [
        {
          "output_type": "stream",
          "name": "stdout",
          "text": [
            "C:\\nueva_carpeta\\python\n",
            "C:\\nueva_carpeta\\python\n"
          ]
        }
      ]
    },
    {
      "cell_type": "markdown",
      "source": [
        "## Variables"
      ],
      "metadata": {
        "id": "WYIyMDsRBIY2"
      }
    },
    {
      "cell_type": "markdown",
      "source": [
        "No guardan los datos, sino que son etiquetas/nombres para referenciar a los objetos."
      ],
      "metadata": {
        "id": "t5LM3sIkBPDY"
      }
    },
    {
      "cell_type": "code",
      "source": [
        "a = 2 #se crea el objeto 2"
      ],
      "metadata": {
        "id": "AUprmLLIBVq7"
      },
      "execution_count": null,
      "outputs": []
    },
    {
      "cell_type": "code",
      "source": [
        "type(a)"
      ],
      "metadata": {
        "colab": {
          "base_uri": "https://localhost:8080/"
        },
        "id": "VLx5ubeuBnw1",
        "outputId": "e530f60d-e139-4dfa-9b51-e88be75455c6"
      },
      "execution_count": null,
      "outputs": [
        {
          "output_type": "execute_result",
          "data": {
            "text/plain": [
              "int"
            ]
          },
          "metadata": {},
          "execution_count": 31
        }
      ]
    },
    {
      "cell_type": "markdown",
      "source": [
        "## Nomenclaturas de variables"
      ],
      "metadata": {
        "id": "mLupZr9tBybP"
      }
    },
    {
      "cell_type": "code",
      "source": [
        "# Variables empiezan en minúscula\n",
        "nombre = \"Pepe\" #Bien\n",
        "NOMBRE = \"Maria\" #Mal\n",
        "\n",
        "# Usar letras, números y solo el símbolo _ (underscore)\n",
        "# Siempre empiezo con letra\n",
        "\n",
        "nombre1 = \"Pepe\"\n",
        "nombre2 =\"Maria\"\n",
        "\n",
        "# 2nombre = Pepe #MAL"
      ],
      "metadata": {
        "id": "f_tFNJ3kB3IC"
      },
      "execution_count": null,
      "outputs": []
    },
    {
      "cell_type": "code",
      "source": [
        "# Camel Case\n",
        "nombreCompleto = \"José de San Martín\"\n",
        "\n",
        "# Snake (serpiente)\n",
        "nombre_completo = \"José de San Martín\""
      ],
      "metadata": {
        "id": "pJwr-d3bCRtc"
      },
      "execution_count": null,
      "outputs": []
    },
    {
      "cell_type": "markdown",
      "source": [
        "## Desafío\n",
        "\n",
        "Partiendo de:\n",
        "* cadena_1 = \"versátil\"\n",
        "* cadena_2 = \"Python\"\n",
        "* cadena_3 = \"es un lenguaje\"\n",
        "* cadena_4 = \"de programación\""
      ],
      "metadata": {
        "id": "pk_5d4fRF-4g"
      }
    },
    {
      "cell_type": "code",
      "source": [
        "cadena1 = \"versátil\"\n",
        "cadena2 = \"Python\"\n",
        "cadena3 = \"es un lenguaje\"\n",
        "cadena4 = \"de programación\"\n",
        "\n",
        "cadena5= cadena2 + \" \" + cadena3 + \" \" + cadena4 + \"  \"+ cadena1\n",
        "print(cadena5)"
      ],
      "metadata": {
        "colab": {
          "base_uri": "https://localhost:8080/"
        },
        "id": "_1fdLwZtGLuu",
        "outputId": "337d81ee-872c-4692-8b87-2467cfa9177f"
      },
      "execution_count": null,
      "outputs": [
        {
          "output_type": "stream",
          "name": "stdout",
          "text": [
            "Python es un lenguaje de programación  versátil\n"
          ]
        }
      ]
    },
    {
      "cell_type": "code",
      "source": [
        "pg = input(\"Ingrese la cantidad de partidos ganados: \")\n",
        "pp = input (\"Ingrese la cantidad de partidos perdidos: \")\n",
        "pe = input(\"Ingrese la cantidad de partidos empatados: \")"
      ],
      "metadata": {
        "colab": {
          "base_uri": "https://localhost:8080/"
        },
        "id": "LORuxEKXHwYS",
        "outputId": "e330209d-7b63-4635-bbc0-a0aa2ddcab2e"
      },
      "execution_count": null,
      "outputs": [
        {
          "name": "stdout",
          "output_type": "stream",
          "text": [
            "Ingrese la cantidad de partidos ganados: 5\n",
            "Ingrese la cantidad de partidos perdidos: 9\n",
            "Ingrese la cantidad de partidos empatados: 66\n"
          ]
        }
      ]
    },
    {
      "cell_type": "code",
      "source": [
        "pg = int(pg)\n",
        "pp = int(pp)\n",
        "pe = int(pe)"
      ],
      "metadata": {
        "id": "cxXS5YkyKFRf"
      },
      "execution_count": null,
      "outputs": []
    },
    {
      "cell_type": "code",
      "source": [
        "pg + pp + pe"
      ],
      "metadata": {
        "colab": {
          "base_uri": "https://localhost:8080/"
        },
        "id": "CRC-kgekKLJH",
        "outputId": "512e4ace-b06a-4b41-c148-e74b872d2ef4"
      },
      "execution_count": null,
      "outputs": [
        {
          "output_type": "execute_result",
          "data": {
            "text/plain": [
              "80"
            ]
          },
          "metadata": {},
          "execution_count": 69
        }
      ]
    },
    {
      "cell_type": "markdown",
      "source": [
        "## Slicing (rebanar/cortar)"
      ],
      "metadata": {
        "id": "DtWmzg-EKcB9"
      }
    },
    {
      "cell_type": "code",
      "source": [
        "frase"
      ],
      "metadata": {
        "colab": {
          "base_uri": "https://localhost:8080/",
          "height": 35
        },
        "id": "4gP5GEIvKqvI",
        "outputId": "401bbb2c-f95d-4993-8260-5f980135eb68"
      },
      "execution_count": null,
      "outputs": [
        {
          "output_type": "execute_result",
          "data": {
            "text/plain": [
              "\"Dios no juega a los dados 'Einstein' \""
            ],
            "application/vnd.google.colaboratory.intrinsic+json": {
              "type": "string"
            }
          },
          "metadata": {},
          "execution_count": 71
        }
      ]
    },
    {
      "cell_type": "code",
      "source": [
        "frase[0:8] #del caracter 0 al 8"
      ],
      "metadata": {
        "colab": {
          "base_uri": "https://localhost:8080/",
          "height": 35
        },
        "id": "1_5msiCQKv24",
        "outputId": "4c966a20-785e-4fcd-dfb0-808441c4166b"
      },
      "execution_count": null,
      "outputs": [
        {
          "output_type": "execute_result",
          "data": {
            "text/plain": [
              "\" no juega a los dados 'Einstein' \""
            ],
            "application/vnd.google.colaboratory.intrinsic+json": {
              "type": "string"
            }
          },
          "metadata": {},
          "execution_count": 73
        }
      ]
    },
    {
      "cell_type": "code",
      "source": [
        "frase[4:] #del 4 al final"
      ],
      "metadata": {
        "colab": {
          "base_uri": "https://localhost:8080/",
          "height": 35
        },
        "id": "LRw22QhRK3pW",
        "outputId": "263ccb88-18c8-4ea3-e685-219aec3ac7b8"
      },
      "execution_count": null,
      "outputs": [
        {
          "output_type": "execute_result",
          "data": {
            "text/plain": [
              "\" no juega a los dados 'Einstein' \""
            ],
            "application/vnd.google.colaboratory.intrinsic+json": {
              "type": "string"
            }
          },
          "metadata": {},
          "execution_count": 74
        }
      ]
    },
    {
      "cell_type": "code",
      "source": [
        "frase[5:10]"
      ],
      "metadata": {
        "colab": {
          "base_uri": "https://localhost:8080/",
          "height": 35
        },
        "id": "-V0n_irLLEHL",
        "outputId": "464ccc39-6f05-4f98-b795-bf0f3193380b"
      },
      "execution_count": null,
      "outputs": [
        {
          "output_type": "execute_result",
          "data": {
            "text/plain": [
              "'no ju'"
            ],
            "application/vnd.google.colaboratory.intrinsic+json": {
              "type": "string"
            }
          },
          "metadata": {},
          "execution_count": 75
        }
      ]
    },
    {
      "cell_type": "code",
      "source": [
        "frase[-1] #empieza de derecha a izquierda /invertido"
      ],
      "metadata": {
        "colab": {
          "base_uri": "https://localhost:8080/",
          "height": 35
        },
        "id": "zPX0beYPLHti",
        "outputId": "b1d263b8-1188-4b93-c7bd-0a2140d0c5e7"
      },
      "execution_count": null,
      "outputs": [
        {
          "output_type": "execute_result",
          "data": {
            "text/plain": [
              "' '"
            ],
            "application/vnd.google.colaboratory.intrinsic+json": {
              "type": "string"
            }
          },
          "metadata": {},
          "execution_count": 76
        }
      ]
    },
    {
      "cell_type": "code",
      "source": [
        "frase[-10:]"
      ],
      "metadata": {
        "colab": {
          "base_uri": "https://localhost:8080/",
          "height": 35
        },
        "id": "tYEfELRWLQw5",
        "outputId": "134fcf64-a00c-4590-bd9c-681ea9f9f73f"
      },
      "execution_count": null,
      "outputs": [
        {
          "output_type": "execute_result",
          "data": {
            "text/plain": [
              "\"Einstein' \""
            ],
            "application/vnd.google.colaboratory.intrinsic+json": {
              "type": "string"
            }
          },
          "metadata": {},
          "execution_count": 77
        }
      ]
    },
    {
      "cell_type": "code",
      "source": [
        "frase[0::2]"
      ],
      "metadata": {
        "colab": {
          "base_uri": "https://localhost:8080/",
          "height": 35
        },
        "id": "q8Qd1e1ELUC9",
        "outputId": "f4837f79-7161-482b-a81c-d67d3874bd92"
      },
      "execution_count": null,
      "outputs": [
        {
          "output_type": "execute_result",
          "data": {
            "text/plain": [
              "\"Do ojeaalsdds'isen \""
            ],
            "application/vnd.google.colaboratory.intrinsic+json": {
              "type": "string"
            }
          },
          "metadata": {},
          "execution_count": 78
        }
      ]
    },
    {
      "cell_type": "code",
      "source": [
        "frase2 = \"yo hago yoga hoy\""
      ],
      "metadata": {
        "id": "2hmapDBQLqX7"
      },
      "execution_count": null,
      "outputs": []
    },
    {
      "cell_type": "code",
      "source": [
        "frase2[::-1]"
      ],
      "metadata": {
        "id": "TKq4UdGLLuIF",
        "outputId": "7bd88e5b-6d1c-4399-c89c-3201b49f0bef",
        "colab": {
          "base_uri": "https://localhost:8080/",
          "height": 35
        }
      },
      "execution_count": null,
      "outputs": [
        {
          "output_type": "execute_result",
          "data": {
            "text/plain": [
              "'yoh agoy ogah oy'"
            ],
            "application/vnd.google.colaboratory.intrinsic+json": {
              "type": "string"
            }
          },
          "metadata": {},
          "execution_count": 80
        }
      ]
    }
  ]
}