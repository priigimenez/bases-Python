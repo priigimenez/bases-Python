{
  "nbformat": 4,
  "nbformat_minor": 0,
  "metadata": {
    "colab": {
      "provenance": []
    },
    "kernelspec": {
      "name": "python3",
      "display_name": "Python 3"
    },
    "language_info": {
      "name": "python"
    }
  },
  "cells": [
    {
      "cell_type": "markdown",
      "source": [
        "## Colecciones\n",
        "* Listas\n",
        "* Tuplas\n",
        "* Conjuntos\n",
        "* Diccionarios"
      ],
      "metadata": {
        "id": "BOtgZzBBjq_Z"
      }
    },
    {
      "cell_type": "markdown",
      "source": [
        "## Listas []\n",
        "\n",
        "* Orden\n",
        "* Mutabilidad\n",
        "  1. Agregar elementos\n",
        "  2. Modificar elementos\n",
        "  3. Eliminar elementos\n",
        "* Repetir elementos"
      ],
      "metadata": {
        "id": "oKRqP1gljzSl"
      }
    },
    {
      "cell_type": "code",
      "source": [
        "amigos =  [\"Ana\", \"Pablo\", \"Juan\", \"Maria\", 999, \"Pedro\", \"Pedro\", \"Ana\", \"Luis\"]"
      ],
      "metadata": {
        "id": "BIy9jlzTkCzX"
      },
      "execution_count": null,
      "outputs": []
    },
    {
      "cell_type": "markdown",
      "source": [
        "El orden es importante porque, para poder acceder a cualquier elemento de una lista, tengo que conocer la posición de dicho elemento."
      ],
      "metadata": {
        "id": "lHgLdP57kXrR"
      }
    },
    {
      "cell_type": "code",
      "source": [
        "amigos [1]"
      ],
      "metadata": {
        "colab": {
          "base_uri": "https://localhost:8080/",
          "height": 36
        },
        "id": "1BejYGOSkg-l",
        "outputId": "e2950f2e-73ac-407a-bbb9-411194dcfc0a"
      },
      "execution_count": null,
      "outputs": [
        {
          "output_type": "execute_result",
          "data": {
            "text/plain": [
              "'Pablo'"
            ],
            "application/vnd.google.colaboratory.intrinsic+json": {
              "type": "string"
            }
          },
          "metadata": {},
          "execution_count": 2
        }
      ]
    },
    {
      "cell_type": "code",
      "source": [
        "amigos.append(\"Luis\") #agregamos elementos"
      ],
      "metadata": {
        "id": "ozJ7vAIuk1Zw"
      },
      "execution_count": null,
      "outputs": []
    },
    {
      "cell_type": "code",
      "source": [
        "print(amigos)"
      ],
      "metadata": {
        "colab": {
          "base_uri": "https://localhost:8080/"
        },
        "id": "IsqQqrdqk4nA",
        "outputId": "f4ea4a4a-7dd6-48f6-ebbd-cb08ecc7607a"
      },
      "execution_count": null,
      "outputs": [
        {
          "output_type": "stream",
          "name": "stdout",
          "text": [
            "['Ana', 'Pablo', 'Juan', 'Maria', 999, 'Pedro', 'Luis']\n"
          ]
        }
      ]
    },
    {
      "cell_type": "code",
      "source": [
        "amigos[0] = \"Patricia\" #reemplazamos un valor\n",
        "print(amigos)"
      ],
      "metadata": {
        "colab": {
          "base_uri": "https://localhost:8080/"
        },
        "id": "j8qP3514k4jV",
        "outputId": "d37230b3-beef-4235-9054-9127bc2d9543"
      },
      "execution_count": null,
      "outputs": [
        {
          "output_type": "stream",
          "name": "stdout",
          "text": [
            "['Patricia', 'Pablo', 'Juan', 'Maria', 999, 'Pedro', 'Luis']\n"
          ]
        }
      ]
    },
    {
      "cell_type": "code",
      "source": [
        "del amigos[0]"
      ],
      "metadata": {
        "id": "GIrXPeLnlWUg"
      },
      "execution_count": null,
      "outputs": []
    },
    {
      "cell_type": "code",
      "source": [
        "print(amigos)"
      ],
      "metadata": {
        "colab": {
          "base_uri": "https://localhost:8080/"
        },
        "id": "ZmoNmmAzlbim",
        "outputId": "f5ad99d0-b771-4b5e-f88d-4ee8d2016a91"
      },
      "execution_count": null,
      "outputs": [
        {
          "output_type": "stream",
          "name": "stdout",
          "text": [
            "['Pablo', 'Juan', 'Maria', 999, 'Pedro', 'Luis']\n"
          ]
        }
      ]
    },
    {
      "cell_type": "code",
      "source": [
        "print(amigos) #permite elementos repetidos"
      ],
      "metadata": {
        "colab": {
          "base_uri": "https://localhost:8080/"
        },
        "id": "61XW572KltJs",
        "outputId": "bde052e7-3bfa-4364-c8eb-1a5ad19ea167"
      },
      "execution_count": null,
      "outputs": [
        {
          "output_type": "stream",
          "name": "stdout",
          "text": [
            "['Ana', 'Pablo', 'Juan', 'Maria', 999, 'Pedro', 'Pedro', 'Ana', 'Luis']\n"
          ]
        }
      ]
    },
    {
      "cell_type": "code",
      "source": [
        "amigos.pop(1) #otra forma de eliminar un elemento\n",
        "print(amigos)"
      ],
      "metadata": {
        "colab": {
          "base_uri": "https://localhost:8080/"
        },
        "id": "jBXVCPEjl2cS",
        "outputId": "fb851f01-d360-4108-8da0-4876f9838099"
      },
      "execution_count": null,
      "outputs": [
        {
          "output_type": "stream",
          "name": "stdout",
          "text": [
            "['Ana', 'Maria', 999, 'Pedro', 'Pedro', 'Ana', 'Luis']\n"
          ]
        }
      ]
    },
    {
      "cell_type": "code",
      "source": [
        "amigos.count(\"Pedro\")"
      ],
      "metadata": {
        "colab": {
          "base_uri": "https://localhost:8080/"
        },
        "id": "ZE_r3kvPmAjT",
        "outputId": "faa03689-3422-49f4-a9fd-d9067d6392e3"
      },
      "execution_count": null,
      "outputs": [
        {
          "output_type": "execute_result",
          "data": {
            "text/plain": [
              "2"
            ]
          },
          "metadata": {},
          "execution_count": 16
        }
      ]
    },
    {
      "cell_type": "code",
      "source": [
        "amigos.index(999)"
      ],
      "metadata": {
        "colab": {
          "base_uri": "https://localhost:8080/"
        },
        "id": "k0aLygjhmYxu",
        "outputId": "362d462b-15e7-4659-9404-1177a0fa322d"
      },
      "execution_count": null,
      "outputs": [
        {
          "output_type": "execute_result",
          "data": {
            "text/plain": [
              "2"
            ]
          },
          "metadata": {},
          "execution_count": 17
        }
      ]
    },
    {
      "cell_type": "markdown",
      "source": [
        "## Tuplas ()\n",
        "\n",
        "- Orden\n",
        "- No son mutables\n",
        "- Permiten repetir elementos\n"
      ],
      "metadata": {
        "id": "-4NIBBXmmrOI"
      }
    },
    {
      "cell_type": "code",
      "source": [
        "cosas = (\"Mouse\", \"Teclado\", \"Auricular\", \"PC\", \"Monitor\", \"RAM\", \"RAM\", \"disco\", \"disco\")"
      ],
      "metadata": {
        "id": "77vs63Lum4UX"
      },
      "execution_count": null,
      "outputs": []
    },
    {
      "cell_type": "code",
      "source": [
        "cosas.count(\"RAM\")"
      ],
      "metadata": {
        "colab": {
          "base_uri": "https://localhost:8080/"
        },
        "id": "NSrt1HifnMLw",
        "outputId": "87a42ee3-6a29-458c-a2ec-2311e9d6e9ab"
      },
      "execution_count": null,
      "outputs": [
        {
          "output_type": "execute_result",
          "data": {
            "text/plain": [
              "2"
            ]
          },
          "metadata": {},
          "execution_count": 19
        }
      ]
    },
    {
      "cell_type": "code",
      "source": [
        "cosas.index(\"disco\")"
      ],
      "metadata": {
        "colab": {
          "base_uri": "https://localhost:8080/"
        },
        "id": "AXwSNY2XodqV",
        "outputId": "3f5bc2e2-186b-4b3e-ccf6-1ab1f705e357"
      },
      "execution_count": null,
      "outputs": [
        {
          "output_type": "execute_result",
          "data": {
            "text/plain": [
              "7"
            ]
          },
          "metadata": {},
          "execution_count": 21
        }
      ]
    },
    {
      "cell_type": "markdown",
      "source": [
        "## Diccionarios - dos partes: clave y valor\n",
        "\n",
        "- No es ordenada (índices)\n",
        "- Mutable\n",
        "- Claves no se pueden repetir, los valores sí"
      ],
      "metadata": {
        "id": "9n-ieZYMo-Qd"
      }
    },
    {
      "cell_type": "code",
      "source": [
        "paises = {\"Arg\": 45, \"Bra\": 212, \"Col\": 50, \"Per\": 32, \"Chi\": 17, \"Bol\": 13, \"Uru\": 3.5}"
      ],
      "metadata": {
        "id": "zHk9FXkQpoAN"
      },
      "execution_count": null,
      "outputs": []
    },
    {
      "cell_type": "code",
      "source": [
        "paises[\"Col\"]"
      ],
      "metadata": {
        "colab": {
          "base_uri": "https://localhost:8080/"
        },
        "id": "3VmORbBdqAFW",
        "outputId": "36718eab-b02f-46df-ac77-3c598eaf0df7"
      },
      "execution_count": null,
      "outputs": [
        {
          "output_type": "execute_result",
          "data": {
            "text/plain": [
              "50"
            ]
          },
          "metadata": {},
          "execution_count": 24
        }
      ]
    },
    {
      "cell_type": "code",
      "source": [
        "paises[\"Bol\"]"
      ],
      "metadata": {
        "colab": {
          "base_uri": "https://localhost:8080/"
        },
        "id": "sOYdCUhtqP_l",
        "outputId": "54629e8b-a4b0-4068-f4ae-fdc8cde42f9f"
      },
      "execution_count": null,
      "outputs": [
        {
          "output_type": "execute_result",
          "data": {
            "text/plain": [
              "13"
            ]
          },
          "metadata": {},
          "execution_count": 25
        }
      ]
    },
    {
      "cell_type": "code",
      "source": [
        "paises[\"Par\"] = 12"
      ],
      "metadata": {
        "id": "KHwhSlL3qVAb"
      },
      "execution_count": null,
      "outputs": []
    },
    {
      "cell_type": "code",
      "source": [
        "paises"
      ],
      "metadata": {
        "colab": {
          "base_uri": "https://localhost:8080/"
        },
        "id": "oq_2qBKbqrl7",
        "outputId": "541ed6fc-e62a-4edd-b5dd-20144865709d"
      },
      "execution_count": null,
      "outputs": [
        {
          "output_type": "execute_result",
          "data": {
            "text/plain": [
              "{'Arg': 45,\n",
              " 'Bra': 212,\n",
              " 'Col': 50,\n",
              " 'Per': 32,\n",
              " 'Chi': 17,\n",
              " 'Bol': 13,\n",
              " 'Uru': 3.5,\n",
              " 'Par': 12}"
            ]
          },
          "metadata": {},
          "execution_count": 40
        }
      ]
    },
    {
      "cell_type": "code",
      "source": [
        "type(amigos), type(cosas), type(paises)"
      ],
      "metadata": {
        "colab": {
          "base_uri": "https://localhost:8080/"
        },
        "id": "7s0wCnccrEFZ",
        "outputId": "a532be0f-97be-4776-a064-19af2511a79c"
      },
      "execution_count": null,
      "outputs": [
        {
          "output_type": "execute_result",
          "data": {
            "text/plain": [
              "(list, tuple, dict)"
            ]
          },
          "metadata": {},
          "execution_count": 34
        }
      ]
    },
    {
      "cell_type": "code",
      "source": [
        "paises[\"Par\"] = 7"
      ],
      "metadata": {
        "id": "_Ba_HPusrT0-"
      },
      "execution_count": null,
      "outputs": []
    },
    {
      "cell_type": "code",
      "source": [
        "paises"
      ],
      "metadata": {
        "colab": {
          "base_uri": "https://localhost:8080/"
        },
        "id": "kN-ztUkqrZse",
        "outputId": "f4786ecd-16e5-413c-bace-3df36f5d45c7"
      },
      "execution_count": null,
      "outputs": [
        {
          "output_type": "execute_result",
          "data": {
            "text/plain": [
              "{'Arg': 45,\n",
              " 'Bra': 212,\n",
              " 'Col': 50,\n",
              " 'Per': 32,\n",
              " 'Chi': 17,\n",
              " 'Bol': 13,\n",
              " 'Uru': 3.5,\n",
              " 'Par': 7}"
            ]
          },
          "metadata": {},
          "execution_count": 37
        }
      ]
    },
    {
      "cell_type": "code",
      "source": [
        "del paises[\"Bra\"]"
      ],
      "metadata": {
        "id": "kjfdXkRCrlUi"
      },
      "execution_count": null,
      "outputs": []
    },
    {
      "cell_type": "code",
      "source": [
        "paises"
      ],
      "metadata": {
        "colab": {
          "base_uri": "https://localhost:8080/"
        },
        "id": "4k81f35vroa1",
        "outputId": "ce1659ef-2cdb-4583-f3de-091a1cbe3d4a"
      },
      "execution_count": null,
      "outputs": [
        {
          "output_type": "execute_result",
          "data": {
            "text/plain": [
              "{'Arg': 45, 'Col': 50, 'Per': 32, 'Chi': 17, 'Bol': 13, 'Uru': 3.5, 'Par': 12}"
            ]
          },
          "metadata": {},
          "execution_count": 42
        }
      ]
    },
    {
      "cell_type": "code",
      "source": [
        "paises.update({\"Ecu\": 20, \"Mex\": 120})\n",
        "print(paises)"
      ],
      "metadata": {
        "colab": {
          "base_uri": "https://localhost:8080/"
        },
        "id": "ftKnMLyhr3_B",
        "outputId": "ed81b892-fa8f-4c17-8b18-5359cd955a39"
      },
      "execution_count": null,
      "outputs": [
        {
          "output_type": "stream",
          "name": "stdout",
          "text": [
            "{'Arg': 45, 'Col': 50, 'Per': 32, 'Chi': 17, 'Bol': 13, 'Uru': 3.5, 'Par': 12, 'Ecu': 20, 'Mex': 120}\n"
          ]
        }
      ]
    },
    {
      "cell_type": "markdown",
      "source": [
        "## Matriz"
      ],
      "metadata": {
        "id": "JPa_tCzis-z_"
      }
    },
    {
      "cell_type": "code",
      "source": [
        "matriz = [[1,2,3],[4,5,6],[7,8,9]]"
      ],
      "metadata": {
        "id": "dmin8ShBtBgY"
      },
      "execution_count": null,
      "outputs": []
    },
    {
      "cell_type": "code",
      "source": [
        "type(matriz)"
      ],
      "metadata": {
        "colab": {
          "base_uri": "https://localhost:8080/"
        },
        "id": "TlFwZop3tO4_",
        "outputId": "2e0d7708-5dff-4553-8076-2e8766f0b71c"
      },
      "execution_count": null,
      "outputs": [
        {
          "output_type": "execute_result",
          "data": {
            "text/plain": [
              "list"
            ]
          },
          "metadata": {},
          "execution_count": 49
        }
      ]
    },
    {
      "cell_type": "code",
      "source": [
        "matriz[1][0]"
      ],
      "metadata": {
        "colab": {
          "base_uri": "https://localhost:8080/"
        },
        "id": "20DGmFtKtSAq",
        "outputId": "217c119b-9438-4be7-f668-b67b64ea2217"
      },
      "execution_count": null,
      "outputs": [
        {
          "output_type": "execute_result",
          "data": {
            "text/plain": [
              "4"
            ]
          },
          "metadata": {},
          "execution_count": 50
        }
      ]
    },
    {
      "cell_type": "markdown",
      "source": [
        "## Conversiones (\"castear\")"
      ],
      "metadata": {
        "id": "gUhJULQsx3aO"
      }
    },
    {
      "cell_type": "code",
      "source": [
        "numero = \"3.14\"\n",
        "numero = float(numero)\n",
        "type(numero)"
      ],
      "metadata": {
        "colab": {
          "base_uri": "https://localhost:8080/"
        },
        "id": "18kWRHN7x6NV",
        "outputId": "8b6d88db-9496-436a-c0ac-f84c3a80e4b5"
      },
      "execution_count": null,
      "outputs": [
        {
          "output_type": "execute_result",
          "data": {
            "text/plain": [
              "float"
            ]
          },
          "metadata": {},
          "execution_count": 51
        }
      ]
    },
    {
      "cell_type": "code",
      "source": [
        "numero = 3245.4\n",
        "numero = str(numero)\n",
        "type(numero)"
      ],
      "metadata": {
        "colab": {
          "base_uri": "https://localhost:8080/"
        },
        "id": "XzB_0O77ySN0",
        "outputId": "8d764415-745b-43d0-995b-dbd1914b8eff"
      },
      "execution_count": null,
      "outputs": [
        {
          "output_type": "execute_result",
          "data": {
            "text/plain": [
              "str"
            ]
          },
          "metadata": {},
          "execution_count": 52
        }
      ]
    },
    {
      "cell_type": "code",
      "source": [
        "numero"
      ],
      "metadata": {
        "colab": {
          "base_uri": "https://localhost:8080/",
          "height": 36
        },
        "id": "aa3v6oeaynT2",
        "outputId": "9cee6fa4-ea38-45b3-f4bd-f8cb3de49ea9"
      },
      "execution_count": null,
      "outputs": [
        {
          "output_type": "execute_result",
          "data": {
            "text/plain": [
              "'3245.4'"
            ],
            "application/vnd.google.colaboratory.intrinsic+json": {
              "type": "string"
            }
          },
          "metadata": {},
          "execution_count": 53
        }
      ]
    },
    {
      "cell_type": "code",
      "source": [
        "t = (1,2,3,4)\n",
        "l =list(t)\n",
        "type(l)"
      ],
      "metadata": {
        "colab": {
          "base_uri": "https://localhost:8080/"
        },
        "id": "GDngQzKayptI",
        "outputId": "35afabee-bbc1-49f6-c8ed-16e8e550c8bc"
      },
      "execution_count": null,
      "outputs": [
        {
          "output_type": "execute_result",
          "data": {
            "text/plain": [
              "list"
            ]
          },
          "metadata": {},
          "execution_count": 55
        }
      ]
    },
    {
      "cell_type": "code",
      "source": [
        "l.append(44)"
      ],
      "metadata": {
        "id": "WN_lgGkxyxxU"
      },
      "execution_count": null,
      "outputs": []
    },
    {
      "cell_type": "code",
      "source": [
        "t1 = tuple(l)"
      ],
      "metadata": {
        "id": "gh9a4Vm5y8Xc"
      },
      "execution_count": null,
      "outputs": []
    },
    {
      "cell_type": "code",
      "source": [
        "t1"
      ],
      "metadata": {
        "colab": {
          "base_uri": "https://localhost:8080/"
        },
        "id": "BT-SL1hJzA-X",
        "outputId": "152dead4-9486-4d46-c40e-3e5488be13a3"
      },
      "execution_count": null,
      "outputs": [
        {
          "output_type": "execute_result",
          "data": {
            "text/plain": [
              "(1, 2, 3, 4, 44)"
            ]
          },
          "metadata": {},
          "execution_count": 58
        }
      ]
    },
    {
      "cell_type": "markdown",
      "source": [
        "## Crear una tupla de 1 solo elemento"
      ],
      "metadata": {
        "id": "KAenJXvWzFZm"
      }
    },
    {
      "cell_type": "code",
      "source": [
        "tupla = (\"Pablo\") #no es una tupla"
      ],
      "metadata": {
        "id": "GzG6_tlZzOpO"
      },
      "execution_count": null,
      "outputs": []
    },
    {
      "cell_type": "code",
      "source": [
        "type(tupla)"
      ],
      "metadata": {
        "colab": {
          "base_uri": "https://localhost:8080/"
        },
        "id": "4ChjlAARzegq",
        "outputId": "9c9cb375-6c6d-447a-fe09-9360962d18f0"
      },
      "execution_count": null,
      "outputs": [
        {
          "output_type": "execute_result",
          "data": {
            "text/plain": [
              "str"
            ]
          },
          "metadata": {},
          "execution_count": 60
        }
      ]
    },
    {
      "cell_type": "code",
      "source": [
        "tupla_ok = (\"Pablo\",)"
      ],
      "metadata": {
        "id": "iR0OYwLfzjbR"
      },
      "execution_count": null,
      "outputs": []
    },
    {
      "cell_type": "code",
      "source": [
        "type(tupla_ok)"
      ],
      "metadata": {
        "colab": {
          "base_uri": "https://localhost:8080/"
        },
        "id": "_o6UkQByz9GU",
        "outputId": "634ea743-c531-4b2a-fa74-9e0a575de918"
      },
      "execution_count": null,
      "outputs": [
        {
          "output_type": "execute_result",
          "data": {
            "text/plain": [
              "tuple"
            ]
          },
          "metadata": {},
          "execution_count": 62
        }
      ]
    },
    {
      "cell_type": "code",
      "source": [
        "nombre = \"Pedro Picapiedra\"\n",
        "nombre[0]"
      ],
      "metadata": {
        "colab": {
          "base_uri": "https://localhost:8080/",
          "height": 36
        },
        "id": "MkyydZym0QBw",
        "outputId": "802eefc2-df57-44c4-b5d6-d0d2f6da55b7"
      },
      "execution_count": null,
      "outputs": [
        {
          "output_type": "execute_result",
          "data": {
            "text/plain": [
              "'P'"
            ],
            "application/vnd.google.colaboratory.intrinsic+json": {
              "type": "string"
            }
          },
          "metadata": {},
          "execution_count": 63
        }
      ]
    },
    {
      "cell_type": "code",
      "source": [
        "nombre[0] = \"Z\" #los strings son OBJETOS INMUTABLES"
      ],
      "metadata": {
        "colab": {
          "base_uri": "https://localhost:8080/",
          "height": 147
        },
        "id": "Ino-aBaB0ZVv",
        "outputId": "6ab88b89-d845-46c9-baa0-b12d62011640"
      },
      "execution_count": null,
      "outputs": [
        {
          "output_type": "error",
          "ename": "TypeError",
          "evalue": "'str' object does not support item assignment",
          "traceback": [
            "\u001b[0;31m---------------------------------------------------------------------------\u001b[0m",
            "\u001b[0;31mTypeError\u001b[0m                                 Traceback (most recent call last)",
            "\u001b[0;32m/tmp/ipython-input-1036115408.py\u001b[0m in \u001b[0;36m<cell line: 0>\u001b[0;34m()\u001b[0m\n\u001b[0;32m----> 1\u001b[0;31m \u001b[0mnombre\u001b[0m\u001b[0;34m[\u001b[0m\u001b[0;36m0\u001b[0m\u001b[0;34m]\u001b[0m \u001b[0;34m=\u001b[0m \u001b[0;34m\"Z\"\u001b[0m\u001b[0;34m\u001b[0m\u001b[0;34m\u001b[0m\u001b[0m\n\u001b[0m",
            "\u001b[0;31mTypeError\u001b[0m: 'str' object does not support item assignment"
          ]
        }
      ]
    },
    {
      "cell_type": "code",
      "source": [
        "nombre = \"Juan Pedro\""
      ],
      "metadata": {
        "id": "ahVTfCTB0j6-"
      },
      "execution_count": null,
      "outputs": []
    },
    {
      "cell_type": "code",
      "source": [
        "n = 100\n",
        "#n = n + 1\n",
        "n += 1"
      ],
      "metadata": {
        "id": "7MgKfpQH0s2m"
      },
      "execution_count": null,
      "outputs": []
    },
    {
      "cell_type": "code",
      "source": [
        "len(amigos) #devuelve la cantidad de elementos de una estructura"
      ],
      "metadata": {
        "colab": {
          "base_uri": "https://localhost:8080/"
        },
        "id": "7N5Qg-Fs1HID",
        "outputId": "7c6327e9-a9a2-4069-b920-0d0b09e455ba"
      },
      "execution_count": null,
      "outputs": [
        {
          "output_type": "execute_result",
          "data": {
            "text/plain": [
              "7"
            ]
          },
          "metadata": {},
          "execution_count": 68
        }
      ]
    },
    {
      "cell_type": "code",
      "source": [
        "len(cosas)"
      ],
      "metadata": {
        "colab": {
          "base_uri": "https://localhost:8080/"
        },
        "id": "hexPQGRv1fnC",
        "outputId": "ae018473-6560-4318-ca5c-8e66ecf444dc"
      },
      "execution_count": null,
      "outputs": [
        {
          "output_type": "execute_result",
          "data": {
            "text/plain": [
              "9"
            ]
          },
          "metadata": {},
          "execution_count": 69
        }
      ]
    },
    {
      "cell_type": "code",
      "source": [
        "len(paises)"
      ],
      "metadata": {
        "colab": {
          "base_uri": "https://localhost:8080/"
        },
        "id": "r6oC9wyK1hhD",
        "outputId": "1b53bbbe-1545-41e6-c038-71d1e35f468f"
      },
      "execution_count": null,
      "outputs": [
        {
          "output_type": "execute_result",
          "data": {
            "text/plain": [
              "9"
            ]
          },
          "metadata": {},
          "execution_count": 70
        }
      ]
    },
    {
      "cell_type": "code",
      "source": [
        "len(nombre)"
      ],
      "metadata": {
        "colab": {
          "base_uri": "https://localhost:8080/"
        },
        "id": "JcT3ahso1jnF",
        "outputId": "98397738-09e1-46b2-fc88-5ae39f579ed3"
      },
      "execution_count": null,
      "outputs": [
        {
          "output_type": "execute_result",
          "data": {
            "text/plain": [
              "10"
            ]
          },
          "metadata": {},
          "execution_count": 71
        }
      ]
    },
    {
      "cell_type": "code",
      "source": [
        "import this"
      ],
      "metadata": {
        "colab": {
          "base_uri": "https://localhost:8080/"
        },
        "id": "mQ6dVtw52NoR",
        "outputId": "2fe3aac0-cf94-4995-9bee-3cbc6f4e8ab0"
      },
      "execution_count": null,
      "outputs": [
        {
          "output_type": "stream",
          "name": "stdout",
          "text": [
            "The Zen of Python, by Tim Peters\n",
            "\n",
            "Beautiful is better than ugly.\n",
            "Explicit is better than implicit.\n",
            "Simple is better than complex.\n",
            "Complex is better than complicated.\n",
            "Flat is better than nested.\n",
            "Sparse is better than dense.\n",
            "Readability counts.\n",
            "Special cases aren't special enough to break the rules.\n",
            "Although practicality beats purity.\n",
            "Errors should never pass silently.\n",
            "Unless explicitly silenced.\n",
            "In the face of ambiguity, refuse the temptation to guess.\n",
            "There should be one-- and preferably only one --obvious way to do it.\n",
            "Although that way may not be obvious at first unless you're Dutch.\n",
            "Now is better than never.\n",
            "Although never is often better than *right* now.\n",
            "If the implementation is hard to explain, it's a bad idea.\n",
            "If the implementation is easy to explain, it may be a good idea.\n",
            "Namespaces are one honking great idea -- let's do more of those!\n"
          ]
        }
      ]
    },
    {
      "cell_type": "code",
      "source": [
        "amigos"
      ],
      "metadata": {
        "colab": {
          "base_uri": "https://localhost:8080/"
        },
        "id": "23h_rq8t2ua5",
        "outputId": "2047e2fe-9df7-4445-ccca-c0b28d287428"
      },
      "execution_count": null,
      "outputs": [
        {
          "output_type": "execute_result",
          "data": {
            "text/plain": [
              "['Ana', 'Maria', 999, 'Pedro', 'Pedro', 'Ana', 'Luis']"
            ]
          },
          "metadata": {},
          "execution_count": 73
        }
      ]
    },
    {
      "cell_type": "code",
      "source": [
        "\"Marcelo\" in amigos"
      ],
      "metadata": {
        "colab": {
          "base_uri": "https://localhost:8080/"
        },
        "id": "HfkpZOBH2wSN",
        "outputId": "a876c620-7f6a-4e2d-8813-933ffef8db77"
      },
      "execution_count": null,
      "outputs": [
        {
          "output_type": "execute_result",
          "data": {
            "text/plain": [
              "False"
            ]
          },
          "metadata": {},
          "execution_count": 74
        }
      ]
    },
    {
      "cell_type": "markdown",
      "source": [
        "## Conjuntos {}\n",
        "\n",
        "- No son estructuras ordenadas\n",
        "- Son mutables (pero solo agregar / eliminar)\n",
        "- No se pueden repetir elementos"
      ],
      "metadata": {
        "id": "R02g608H34oI"
      }
    },
    {
      "cell_type": "code",
      "source": [
        "s1 = {1, 2, 3, 4, 5}\n",
        "s2 = {3, 4, 5, 6, 7}"
      ],
      "metadata": {
        "id": "fhaS57tZ4LLn"
      },
      "execution_count": null,
      "outputs": []
    },
    {
      "cell_type": "code",
      "source": [
        "type(s1)"
      ],
      "metadata": {
        "colab": {
          "base_uri": "https://localhost:8080/"
        },
        "id": "zMvRHXlg4Ujr",
        "outputId": "bb92784d-0dac-47af-cbef-0f264f6cc13c"
      },
      "execution_count": null,
      "outputs": [
        {
          "output_type": "execute_result",
          "data": {
            "text/plain": [
              "set"
            ]
          },
          "metadata": {},
          "execution_count": 76
        }
      ]
    },
    {
      "cell_type": "code",
      "source": [
        "s1, s2"
      ],
      "metadata": {
        "colab": {
          "base_uri": "https://localhost:8080/"
        },
        "id": "kyoeFWkq6ZHc",
        "outputId": "8b8f61be-392b-451d-d11c-30fdc6d9f0bf"
      },
      "execution_count": null,
      "outputs": [
        {
          "output_type": "execute_result",
          "data": {
            "text/plain": [
              "({1, 2, 3, 4, 5}, {3, 4, 5, 6, 7})"
            ]
          },
          "metadata": {},
          "execution_count": 77
        }
      ]
    },
    {
      "cell_type": "code",
      "source": [
        "s1.intersection(s2) #obtener la intersección entre ambos conjuntos"
      ],
      "metadata": {
        "colab": {
          "base_uri": "https://localhost:8080/"
        },
        "id": "toGhfhqT6a9m",
        "outputId": "e4cc72e3-8dd1-4467-9e13-64b557a6c181"
      },
      "execution_count": null,
      "outputs": [
        {
          "output_type": "execute_result",
          "data": {
            "text/plain": [
              "{3, 4, 5}"
            ]
          },
          "metadata": {},
          "execution_count": 78
        }
      ]
    },
    {
      "cell_type": "code",
      "source": [
        "s1.union(s2)"
      ],
      "metadata": {
        "colab": {
          "base_uri": "https://localhost:8080/"
        },
        "id": "GB4VRSBf6oi1",
        "outputId": "de40a0c0-17dc-424a-d94b-49cf35a7dc53"
      },
      "execution_count": null,
      "outputs": [
        {
          "output_type": "execute_result",
          "data": {
            "text/plain": [
              "{1, 2, 3, 4, 5, 6, 7}"
            ]
          },
          "metadata": {},
          "execution_count": 79
        }
      ]
    },
    {
      "cell_type": "code",
      "source": [
        "s1.difference(s2)"
      ],
      "metadata": {
        "colab": {
          "base_uri": "https://localhost:8080/"
        },
        "id": "Yol8rxUA61Ee",
        "outputId": "248f2a05-a99e-4b17-8f45-cad6c146e8fc"
      },
      "execution_count": null,
      "outputs": [
        {
          "output_type": "execute_result",
          "data": {
            "text/plain": [
              "{1, 2}"
            ]
          },
          "metadata": {},
          "execution_count": 80
        }
      ]
    },
    {
      "cell_type": "code",
      "source": [
        "s2.difference(s1)"
      ],
      "metadata": {
        "colab": {
          "base_uri": "https://localhost:8080/"
        },
        "id": "xSbUktny7C6N",
        "outputId": "c4b5f7d0-bb12-4b53-d790-1488bdbbd082"
      },
      "execution_count": null,
      "outputs": [
        {
          "output_type": "execute_result",
          "data": {
            "text/plain": [
              "{6, 7}"
            ]
          },
          "metadata": {},
          "execution_count": 81
        }
      ]
    },
    {
      "cell_type": "code",
      "source": [
        "s1.symmetric_difference(s2) #s1 - s2 union s2 - s1"
      ],
      "metadata": {
        "colab": {
          "base_uri": "https://localhost:8080/"
        },
        "id": "qKor_NVx7MZN",
        "outputId": "7e4608d3-91cf-466d-d686-56e674b0111a"
      },
      "execution_count": null,
      "outputs": [
        {
          "output_type": "execute_result",
          "data": {
            "text/plain": [
              "{1, 2, 6, 7}"
            ]
          },
          "metadata": {},
          "execution_count": 82
        }
      ]
    },
    {
      "cell_type": "markdown",
      "source": [
        "## ¿Cuál es la única colección que tiene una sola forma de crearse vacía?"
      ],
      "metadata": {
        "id": "-h9nr74A7mDD"
      }
    },
    {
      "cell_type": "code",
      "source": [
        "l_vacia = []\n",
        "l1_vacia = list()"
      ],
      "metadata": {
        "id": "UQJseN9U7wLo"
      },
      "execution_count": null,
      "outputs": []
    },
    {
      "cell_type": "code",
      "source": [
        "t_vacia = ()\n",
        "t1_vacia = tuple()"
      ],
      "metadata": {
        "id": "N1vpdhJa73xt"
      },
      "execution_count": null,
      "outputs": []
    },
    {
      "cell_type": "code",
      "source": [
        "d_vacio = {}\n",
        "d1_vacio = dict()"
      ],
      "metadata": {
        "id": "DZMCYNZR78_E"
      },
      "execution_count": null,
      "outputs": []
    },
    {
      "cell_type": "code",
      "source": [
        "s_vacio = {}\n",
        "s1_vacio = set() #<==== Conjunto"
      ],
      "metadata": {
        "id": "MRZpS3D68CqW"
      },
      "execution_count": null,
      "outputs": []
    },
    {
      "cell_type": "markdown",
      "source": [
        "(Notita personal: ver más sobre la Teoría de Conjuntos)"
      ],
      "metadata": {
        "id": "ziVhPCPGdesT"
      }
    }
  ]
}