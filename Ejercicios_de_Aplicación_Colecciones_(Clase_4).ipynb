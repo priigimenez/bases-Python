{
  "nbformat": 4,
  "nbformat_minor": 0,
  "metadata": {
    "colab": {
      "provenance": []
    },
    "kernelspec": {
      "name": "python3",
      "display_name": "Python 3"
    },
    "language_info": {
      "name": "python"
    }
  },
  "cells": [
    {
      "cell_type": "markdown",
      "source": [
        "**Antes de empezar: asegurarme de entender correctamente el requerimiento. **\n",
        "\n",
        "El profe hizo mucho énfasis, y con razón, en ser atentos respecto a captar \"qué me están pidiendo\" realmente.\n",
        "\n",
        "En lo personal, lo tomé como un llamado a releer, tomarme el tiempo de procesar la consigma, pensar la solución (o qué métodos voy a necesitar utilizar, en este caso de las Colecciones) antes de ponerme a escribir el código como tal.\n",
        "\n",
        "Sin duda, es importante prestar atención a los detalles, \"desconfiar de uno mismo\", hacer siempre un \"double check\" y no caer en el error de \"hacer rápido\" sin reflexión y sin cuidado.\n",
        "\n",
        "(Para seguir trabajando en esto :))"
      ],
      "metadata": {
        "id": "wESfJ0R0ddmo"
      }
    },
    {
      "cell_type": "markdown",
      "source": [
        "## Desafío Listas\n",
        "\n",
        "Crea dos listas lista_1 y lista_2, con cualquier elemento que quieras. Realiza los siguientes puntos usando las funciones integradas ya vistas y el método slice. Imprime la lista correspondiente luego de cada punto.\n",
        "\n",
        "* Añade a la lista_1 el int 456789 y luego el str \"Hola Mundo\"\n",
        "* Luego añade a la lista_2 el str \"Hola y adiós\", y luego el int 5555\n",
        "* Genera una lista_3 con todos los elementos de la lista_1 sin considerar el último elemento\n",
        "* Genera una lista_4 ccon todos los elementos de la lista_2 menos el primero y el último elemento\n",
        "* Finalmente, genera una lista_5 con los elementos de la lista_4 y de la lista_3"
      ],
      "metadata": {
        "id": "tOJQVnXO3H9n"
      }
    },
    {
      "cell_type": "code",
      "source": [
        "lista_1 = [22, \"mesa\", \"platos\", \"sillas\", \"vasos\"]\n",
        "lista_2 = [\"cama\", \"muebles\", \"flores\", \"ventana\"]"
      ],
      "metadata": {
        "id": "qSvNOLEO4Ryb"
      },
      "execution_count": null,
      "outputs": []
    },
    {
      "cell_type": "code",
      "source": [
        "lista_1.append(456789)"
      ],
      "metadata": {
        "id": "vZ2i_aVb5XuA"
      },
      "execution_count": null,
      "outputs": []
    },
    {
      "cell_type": "code",
      "source": [
        "print(lista_1)"
      ],
      "metadata": {
        "colab": {
          "base_uri": "https://localhost:8080/"
        },
        "id": "7itpVM7I5sum",
        "outputId": "ceb3c594-96bd-4d70-92f4-217039b87f0e"
      },
      "execution_count": null,
      "outputs": [
        {
          "output_type": "stream",
          "name": "stdout",
          "text": [
            "[22, 'mesa', 'platos', 'sillas', 'vasos', 456789]\n"
          ]
        }
      ]
    },
    {
      "cell_type": "code",
      "source": [
        "lista_1.append(\"Hola Mundo\")\n",
        "print(lista_1)"
      ],
      "metadata": {
        "colab": {
          "base_uri": "https://localhost:8080/"
        },
        "id": "wXVw-dfj5vKu",
        "outputId": "94815e61-977e-45f4-8adc-8136a8fb9e64"
      },
      "execution_count": null,
      "outputs": [
        {
          "output_type": "stream",
          "name": "stdout",
          "text": [
            "[22, 'mesa', 'platos', 'sillas', 'vasos', 456789, 'Hola Mundo']\n"
          ]
        }
      ]
    },
    {
      "cell_type": "code",
      "source": [
        "lista_3 = lista_1[0:6] #[:-1]"
      ],
      "metadata": {
        "id": "1AV00uD756tI"
      },
      "execution_count": null,
      "outputs": []
    },
    {
      "cell_type": "code",
      "source": [
        "print(lista_3)"
      ],
      "metadata": {
        "colab": {
          "base_uri": "https://localhost:8080/"
        },
        "id": "5saIQz4d6uOD",
        "outputId": "9f31bf92-c9ff-4de0-d99b-00ef42c838c7"
      },
      "execution_count": null,
      "outputs": [
        {
          "output_type": "stream",
          "name": "stdout",
          "text": [
            "[22, 'mesa', 'platos', 'sillas', 'vasos', 456789]\n"
          ]
        }
      ]
    },
    {
      "cell_type": "code",
      "source": [
        "lista_2.append(\"Hola y adiós\")"
      ],
      "metadata": {
        "id": "c5mGK5LF7Bc6"
      },
      "execution_count": null,
      "outputs": []
    },
    {
      "cell_type": "code",
      "source": [
        "lista_2.append(5555)"
      ],
      "metadata": {
        "id": "Ye0CZSOG7Ej6"
      },
      "execution_count": null,
      "outputs": []
    },
    {
      "cell_type": "code",
      "source": [
        "print(lista_2)"
      ],
      "metadata": {
        "colab": {
          "base_uri": "https://localhost:8080/"
        },
        "id": "UQsnwS2T7HMS",
        "outputId": "208aa682-b750-4966-c72b-e0895e904b17"
      },
      "execution_count": null,
      "outputs": [
        {
          "output_type": "stream",
          "name": "stdout",
          "text": [
            "['cama', 'muebles', 'flores', 'ventana', 'Hola y adiós', 5555]\n"
          ]
        }
      ]
    },
    {
      "cell_type": "code",
      "source": [
        "lista_4 = lista_2[1:5] #[1:-1]"
      ],
      "metadata": {
        "id": "UHX_v0Gi7LZr"
      },
      "execution_count": null,
      "outputs": []
    },
    {
      "cell_type": "code",
      "source": [
        "print(lista_4)"
      ],
      "metadata": {
        "colab": {
          "base_uri": "https://localhost:8080/"
        },
        "id": "4h0Jiixe7Tio",
        "outputId": "0b87c475-5168-42fa-970e-4df6a1480b59"
      },
      "execution_count": null,
      "outputs": [
        {
          "output_type": "stream",
          "name": "stdout",
          "text": [
            "['muebles', 'flores', 'ventana', 'Hola y adiós']\n"
          ]
        }
      ]
    },
    {
      "cell_type": "code",
      "source": [
        "lista_5 = lista_4 + lista_3"
      ],
      "metadata": {
        "id": "vDvrtpDE7i6c"
      },
      "execution_count": null,
      "outputs": []
    },
    {
      "cell_type": "code",
      "source": [
        "print(lista_5)"
      ],
      "metadata": {
        "colab": {
          "base_uri": "https://localhost:8080/"
        },
        "id": "xjraY1Kb7pPR",
        "outputId": "fc7f2569-5c37-4b36-d292-069f049a9cc9"
      },
      "execution_count": null,
      "outputs": [
        {
          "output_type": "stream",
          "name": "stdout",
          "text": [
            "['muebles', 'flores', 'ventana', 'Hola y adiós', 22, 'mesa', 'platos', 'sillas', 'vasos', 456789]\n"
          ]
        }
      ]
    },
    {
      "cell_type": "markdown",
      "source": [
        "## Desafío Tuplas\n",
        "\n",
        "A partir de una variable llamada tupla, imprimir por pantalla de forma ordenada, lo siguiente:\n",
        "\n",
        "* El último ítem de la tupla\n",
        "* El número ítems de tupla\n",
        "* La posición donde se encuentra el ítem 87 de la tupla\n",
        "* Una lista con los últimos tres ítems de tupla\n",
        "* Un ítem que haya en la posición 8 de tupla\n",
        "* El número de veces que el ítem 7 aparece en tupla"
      ],
      "metadata": {
        "id": "fSYWdhbA-CdJ"
      }
    },
    {
      "cell_type": "code",
      "source": [
        "tupla = (8, 15, 4, 39, 5, 89, 87, 19, 7, -755, 88, 123, 2, 11, 15, 9, 355)"
      ],
      "metadata": {
        "id": "G3dkUzjG-FDh"
      },
      "execution_count": null,
      "outputs": []
    },
    {
      "cell_type": "code",
      "source": [
        "print(tupla[-1])"
      ],
      "metadata": {
        "colab": {
          "base_uri": "https://localhost:8080/"
        },
        "id": "Q1V5XJxm_Fxx",
        "outputId": "16980e56-75ce-41ab-ac8c-0ae2a6255454"
      },
      "execution_count": null,
      "outputs": [
        {
          "output_type": "stream",
          "name": "stdout",
          "text": [
            "355\n"
          ]
        }
      ]
    },
    {
      "cell_type": "code",
      "source": [
        "print(len(tupla))"
      ],
      "metadata": {
        "colab": {
          "base_uri": "https://localhost:8080/"
        },
        "id": "byQMBL9h_fM7",
        "outputId": "2127a733-f3ae-4a07-f821-3c7d852071e2"
      },
      "execution_count": null,
      "outputs": [
        {
          "output_type": "stream",
          "name": "stdout",
          "text": [
            "17\n"
          ]
        }
      ]
    },
    {
      "cell_type": "code",
      "source": [
        "print(tupla.index(87))"
      ],
      "metadata": {
        "colab": {
          "base_uri": "https://localhost:8080/"
        },
        "id": "wgyociZoAOrc",
        "outputId": "40a45da0-4489-432e-a683-c376d6a1f539"
      },
      "execution_count": null,
      "outputs": [
        {
          "output_type": "stream",
          "name": "stdout",
          "text": [
            "6\n"
          ]
        }
      ]
    },
    {
      "cell_type": "code",
      "source": [
        "print(tupla[-3:])"
      ],
      "metadata": {
        "colab": {
          "base_uri": "https://localhost:8080/"
        },
        "id": "iD6UmmfgAd3u",
        "outputId": "402a0dd3-5192-4435-e46f-27a42546243c"
      },
      "execution_count": null,
      "outputs": [
        {
          "output_type": "stream",
          "name": "stdout",
          "text": [
            "(15, 9, 355)\n"
          ]
        }
      ]
    },
    {
      "cell_type": "code",
      "source": [
        "print(tupla[8])"
      ],
      "metadata": {
        "colab": {
          "base_uri": "https://localhost:8080/"
        },
        "id": "1-hadsNAA1_P",
        "outputId": "42597a33-55fe-4157-cdb7-61b7036a3e48"
      },
      "execution_count": null,
      "outputs": [
        {
          "output_type": "stream",
          "name": "stdout",
          "text": [
            "7\n"
          ]
        }
      ]
    },
    {
      "cell_type": "code",
      "source": [
        "print(tupla.count(7))"
      ],
      "metadata": {
        "colab": {
          "base_uri": "https://localhost:8080/"
        },
        "id": "aRShKmjmA9vf",
        "outputId": "333e7e14-ac17-488b-c16f-1a5de3ca1814"
      },
      "execution_count": null,
      "outputs": [
        {
          "output_type": "stream",
          "name": "stdout",
          "text": [
            "1\n"
          ]
        }
      ]
    },
    {
      "cell_type": "markdown",
      "source": [
        "## Desafío Conjuntos\n",
        "\n",
        "Crear un conjunto que posea los siguietnes elementos:\n",
        "\n",
        "* Colores: Rojo, Blanco, Azul\n",
        "* Agregar Violeta y Dorado\n",
        "* Elimina los colores Celeste, Blanco y Dorado\n",
        "\n",
        "Pregunta: qué pasa si queremos eliminar el color Celeste utilizando el método discard? (imprimir respuesta)"
      ],
      "metadata": {
        "id": "tYIhf3UuETVE"
      }
    },
    {
      "cell_type": "code",
      "source": [
        "colores = {\"Rojo\", \"Blanco\", \"Azul\"}"
      ],
      "metadata": {
        "id": "ReQqjrtUE_wK"
      },
      "execution_count": null,
      "outputs": []
    },
    {
      "cell_type": "code",
      "source": [
        "colores.update([\"Violeta\", \"Dorado\"])"
      ],
      "metadata": {
        "id": "XkCN60JIFTiM"
      },
      "execution_count": null,
      "outputs": []
    },
    {
      "cell_type": "code",
      "source": [
        "print(colores)"
      ],
      "metadata": {
        "colab": {
          "base_uri": "https://localhost:8080/"
        },
        "id": "uCQRtRfnGL5p",
        "outputId": "13dbfcc1-6a48-4c92-e4cd-37c5af58223d"
      },
      "execution_count": null,
      "outputs": [
        {
          "output_type": "stream",
          "name": "stdout",
          "text": [
            "{'Dorado', 'Rojo', 'Azul', 'Violeta', 'Blanco'}\n"
          ]
        }
      ]
    },
    {
      "cell_type": "code",
      "source": [
        "colores.discard(\"Celeste\")\n",
        "colores.discard(\"Blanco\")\n",
        "colores.discard(\"Dorado\")"
      ],
      "metadata": {
        "id": "z5z1Op2bFlCk"
      },
      "execution_count": null,
      "outputs": []
    },
    {
      "cell_type": "code",
      "source": [
        "print(colores)"
      ],
      "metadata": {
        "colab": {
          "base_uri": "https://localhost:8080/"
        },
        "id": "RBUUMuRdGFTa",
        "outputId": "22ef7c67-e1a6-4bd0-84ad-d43863956463"
      },
      "execution_count": null,
      "outputs": [
        {
          "output_type": "stream",
          "name": "stdout",
          "text": [
            "{'Rojo', 'Azul', 'Violeta'}\n"
          ]
        }
      ]
    },
    {
      "cell_type": "code",
      "source": [
        "print(\"Eliminar el color Celeste usando el método discard es la mejor opción, ya que, a diferencia del método remove, no genera un error ante el hecho de que tal elemento no se encuentra en el conjunto.\")"
      ],
      "metadata": {
        "colab": {
          "base_uri": "https://localhost:8080/"
        },
        "id": "SZGZW6kFG96L",
        "outputId": "946cdb16-7969-4e37-c74a-ca80dbb31fa7"
      },
      "execution_count": null,
      "outputs": [
        {
          "output_type": "stream",
          "name": "stdout",
          "text": [
            "Eliminar el color Celeste usando el método discard es la mejor opción, ya que, a diferencia del método remove, no genera un error ante el hecho de que tal elemento no se encuentra en el conjunto.\n"
          ]
        }
      ]
    },
    {
      "cell_type": "markdown",
      "source": [
        "## Desafío Diccionarios\n",
        "\n",
        "Crear un diccionario que almacene a los ganadores de la Copa Mundial desde el año 1990 al 2018 y mostrarlo por pantalla. Además:\n",
        "\n",
        "* Imprimir el ganador del Mundial 2006\n",
        "* Imprimir cuántas veces ganó Brasil en estos mundiales\n",
        "* Agregar quién ganó el mundial 2022"
      ],
      "metadata": {
        "id": "0ij0nSDQJLnG"
      }
    },
    {
      "cell_type": "code",
      "source": [
        "ganadores_copa_mundial = {1990: 'Alemania', 1994: 'Brasil', 1998: 'Francia', 2002: 'Brasil', 2006: 'Italia', 2010: 'España', 2014: 'Alemania', 2018: 'Francia' }"
      ],
      "metadata": {
        "id": "4wDNEVpIJUQ4"
      },
      "execution_count": null,
      "outputs": []
    },
    {
      "cell_type": "code",
      "source": [
        "print(ganadores_copa_mundial)"
      ],
      "metadata": {
        "colab": {
          "base_uri": "https://localhost:8080/"
        },
        "id": "sqoEJffVPgzV",
        "outputId": "bc52108f-f79a-4fce-ed24-fe4b9dc1db42"
      },
      "execution_count": null,
      "outputs": [
        {
          "output_type": "stream",
          "name": "stdout",
          "text": [
            "{1990: 'Alemania', 1994: 'Brasil', 1998: 'Francia', 2002: 'Brasil', 2006: 'Italia', 2010: 'España', 2014: 'Alemania', 2018: 'Francia'}\n"
          ]
        }
      ]
    },
    {
      "cell_type": "code",
      "source": [
        "print(ganadores_copa_mundial[2006])"
      ],
      "metadata": {
        "colab": {
          "base_uri": "https://localhost:8080/"
        },
        "id": "twdySKFGKh7Q",
        "outputId": "92cf27ee-b207-4e35-8723-946621b0d85f"
      },
      "execution_count": null,
      "outputs": [
        {
          "output_type": "stream",
          "name": "stdout",
          "text": [
            "Italia\n"
          ]
        }
      ]
    },
    {
      "cell_type": "code",
      "source": [
        "print(list(ganadores_copa_mundial.values()).count('Brasil'))"
      ],
      "metadata": {
        "colab": {
          "base_uri": "https://localhost:8080/"
        },
        "id": "QBXfwsALKpDD",
        "outputId": "4fb97130-22dd-40f9-9d2a-db322dd5962a"
      },
      "execution_count": null,
      "outputs": [
        {
          "output_type": "stream",
          "name": "stdout",
          "text": [
            "2\n"
          ]
        }
      ]
    },
    {
      "cell_type": "code",
      "metadata": {
        "colab": {
          "base_uri": "https://localhost:8080/"
        },
        "id": "ccb08087",
        "outputId": "0a6d3abe-9271-40b7-ffb4-c933eb7f93a5"
      },
      "source": [
        "ganadores_copa_mundial[2022] = 'Argentina'\n",
        "print(ganadores_copa_mundial)"
      ],
      "execution_count": null,
      "outputs": [
        {
          "output_type": "stream",
          "name": "stdout",
          "text": [
            "{1990: 'Alemania', 1994: 'Brasil', 1998: 'Francia', 2002: 'Brasil', 2006: 'Italia', 2010: 'España', 2014: 'Alemania', 2018: 'Francia', 2022: 'Argentina'}\n"
          ]
        }
      ]
    }
  ]
}